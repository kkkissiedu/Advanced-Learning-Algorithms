{
 "cells": [
  {
   "cell_type": "code",
   "execution_count": null,
   "id": "0dcdd44d",
   "metadata": {},
   "outputs": [],
   "source": [
    "from google.colab import drive\n",
    "drive.mount('/content/drive')\n",
    "%cd /content/drive/My\\ Drive/Advanced Learning Algorithms/Week 2/optional-labs\n"
   ]
  }
 ],
 "metadata": {
  "language_info": {
   "name": "python"
  }
 },
 "nbformat": 4,
 "nbformat_minor": 5
}

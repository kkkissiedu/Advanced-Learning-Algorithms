{
 "cells": [
  {
   "cell_type": "code",
   "execution_count": 1,
   "id": "517c0b38",
   "metadata": {},
   "outputs": [],
   "source": [
    "import numpy as np\n",
    "import matplotlib.pyplot as plt\n",
    "plt.style.use('./deeplearning.mplstyle')\n",
    "import torch\n",
    "import torch.nn as nn\n",
    "import torch.optim as optim\n",
    "import torch.nn.functional as F\n",
    "from torch.utils.data import DataLoader, Dataset\n",
    "from lab_utils_common import dlc\n",
    "from sklearn.preprocessing import StandardScaler\n",
    "from torch.utils.data import TensorDataset, DataLoader\n",
    "from collections import OrderedDict\n",
    "from sklearn.datasets import make_blobs"
   ]
  },
  {
   "cell_type": "code",
   "execution_count": 3,
   "id": "eee84ac9",
   "metadata": {},
   "outputs": [],
   "source": [
    "class NN(nn.Module):\n",
    "    def __init__(self, input_size):\n",
    "        super(NN, self).__init__()\n",
    "        self.net = nn.Sequential(OrderedDict([\n",
    "            ('layer1', nn.Linear(input_size, 25)),\n",
    "            ('relu1', nn.ReLU()),\n",
    "            ('layer2', nn.Linear(25, 15)),\n",
    "            ('relu2', nn.ReLU())\n",
    "        ]))\n",
    "\n",
    "    def forward(self, x):\n",
    "        return self.net(x)\n"
   ]
  },
  {
   "cell_type": "code",
   "execution_count": 6,
   "id": "940158c4",
   "metadata": {},
   "outputs": [],
   "source": [
    "centers = [[-5, 2], [-2, -2], [1, 2], [5, -2]]\n",
    "X_train, y_train = make_blobs(n_samples = 2000, centers = centers, cluster_std = 1.0, random_state = 30)\n",
    "\n",
    "X_tensor = torch.tensor(X_train, dtype = torch.float32)\n",
    "y_tensor = torch.tensor(y_train, dtype = torch.long)"
   ]
  },
  {
   "cell_type": "markdown",
   "id": "6ccd2dfb",
   "metadata": {},
   "source": [
    "# Model"
   ]
  },
  {
   "cell_type": "code",
   "execution_count": 5,
   "id": "cc133924",
   "metadata": {},
   "outputs": [],
   "source": [
    "input_size = X_tensor.shape[1]\n",
    "\n",
    "MLCM = NN(input_size)\n",
    "\n",
    "criterion = nn.CrossEntropyLoss()\n",
    "optimizer = optim.Adam(MLCM.parameters(), lr=0.001)"
   ]
  },
  {
   "cell_type": "markdown",
   "id": "49c7cf0a",
   "metadata": {},
   "source": [
    "## Training Loop"
   ]
  },
  {
   "cell_type": "code",
   "execution_count": 7,
   "id": "8e4e3e29",
   "metadata": {},
   "outputs": [
    {
     "name": "stdout",
     "output_type": "stream",
     "text": [
      "Epoch [1/10], Loss: 1.7884\n",
      "Epoch [2/10], Loss: 0.9308\n",
      "Epoch [3/10], Loss: 0.5036\n",
      "Epoch [4/10], Loss: 0.3087\n",
      "Epoch [5/10], Loss: 0.2147\n",
      "Epoch [6/10], Loss: 0.1645\n",
      "Epoch [7/10], Loss: 0.1330\n",
      "Epoch [8/10], Loss: 0.1130\n",
      "Epoch [9/10], Loss: 0.0976\n",
      "Epoch [10/10], Loss: 0.0848\n"
     ]
    }
   ],
   "source": [
    "num_epochs = 10\n",
    "\n",
    "dataset = TensorDataset(X_tensor, y_tensor)\n",
    "batch_size = 32\n",
    "train_loader = DataLoader(dataset = dataset, batch_size = batch_size, shuffle = True)\n",
    "\n",
    "for epoch in range(num_epochs):\n",
    "    MLCM.train()\n",
    "    epoch_loss = 0.0\n",
    "    num_batches = 0\n",
    "    \n",
    "    for batch_idx, (data_batch, target_batch) in enumerate(train_loader):\n",
    "        optimizer.zero_grad()\n",
    "        outputs = MLCM(data_batch)\n",
    "        loss = criterion(outputs, target_batch)\n",
    "        loss.backward()\n",
    "        optimizer.step()\n",
    "        epoch_loss += loss.item()\n",
    "        num_batches += 1\n",
    "\n",
    "\n",
    "    avg_epoch_loss = epoch_loss / num_batches\n",
    "\n",
    "    if (epoch + 1) % 1 == 0:\n",
    "        print(f'Epoch [{epoch +1}/{num_epochs}], Loss: {avg_epoch_loss:.4f}')"
   ]
  },
  {
   "cell_type": "code",
   "execution_count": 16,
   "id": "da66aa1e",
   "metadata": {},
   "outputs": [
    {
     "name": "stdout",
     "output_type": "stream",
     "text": [
      "Sample 0 probabilities: [0.01 0.01 0.91 0.02 0.01 0.01 0.01 0.01 0.01 0.01 0.01 0.01 0.01 0.01\n",
      " 0.01],\n",
      " predicted class: 2, true class: 2\n",
      "Sample 1 probabilities: [9.82e-01 1.52e-02 1.83e-04 1.83e-04 1.83e-04 1.83e-04 1.83e-04 1.83e-04\n",
      " 1.83e-04 1.83e-04 1.83e-04 1.83e-04 1.83e-04 1.83e-04 1.83e-04],\n",
      " predicted class: 0, true class: 0\n",
      "Sample 2 probabilities: [0.92 0.06 0.   0.   0.   0.   0.   0.   0.   0.   0.   0.   0.   0.\n",
      " 0.  ],\n",
      " predicted class: 0, true class: 0\n",
      "Sample 3 probabilities: [0.01 0.94 0.   0.   0.   0.   0.   0.   0.   0.   0.   0.   0.   0.\n",
      " 0.  ],\n",
      " predicted class: 1, true class: 1\n",
      "Sample 4 probabilities: [5.75e-03 4.50e-04 9.88e-01 4.50e-04 4.50e-04 4.50e-04 4.50e-04 4.50e-04\n",
      " 4.50e-04 4.50e-04 4.50e-04 4.50e-04 4.50e-04 4.50e-04 4.50e-04],\n",
      " predicted class: 2, true class: 2\n",
      "Sample 5 probabilities: [0.   0.   0.98 0.   0.   0.   0.   0.   0.   0.   0.   0.   0.   0.\n",
      " 0.  ],\n",
      " predicted class: 2, true class: 2\n",
      "Sample 6 probabilities: [0.   0.98 0.   0.   0.   0.   0.   0.   0.   0.   0.   0.   0.   0.\n",
      " 0.  ],\n",
      " predicted class: 1, true class: 1\n",
      "Sample 7 probabilities: [9.99e-01 5.20e-04 1.16e-04 3.06e-05 3.06e-05 3.06e-05 3.06e-05 3.06e-05\n",
      " 3.06e-05 3.06e-05 3.06e-05 3.06e-05 3.06e-05 3.06e-05 3.06e-05],\n",
      " predicted class: 0, true class: 0\n",
      "Sample 8 probabilities: [0.01 0.97 0.   0.   0.   0.   0.   0.   0.   0.   0.   0.   0.   0.\n",
      " 0.  ],\n",
      " predicted class: 1, true class: 1\n",
      "Sample 9 probabilities: [4.89e-04 9.46e-04 2.38e-03 9.91e-01 4.89e-04 4.89e-04 4.89e-04 4.89e-04\n",
      " 4.89e-04 4.89e-04 4.89e-04 4.89e-04 4.89e-04 4.89e-04 4.89e-04],\n",
      " predicted class: 3, true class: 3\n"
     ]
    }
   ],
   "source": [
    "MLCM.eval()\n",
    "\n",
    "with torch.no_grad():\n",
    "    outputs = MLCM(X_tensor) \n",
    "    predicted_classes = torch.argmax(outputs, dim = 1)\n",
    "    predicted_classes = predicted_classes.detach().cpu().numpy()\n",
    "    probabilities = F.softmax(outputs, dim=1)\n",
    "    probs_np = probabilities.detach().cpu().numpy()\n",
    "\n",
    "for i in range(10):\n",
    "    print(f\"Sample {i} probabilities: {probs_np[i]},\\n predicted class: {predicted_classes[i]}, true class: {y_train[i]}\")"
   ]
  },
  {
   "cell_type": "code",
   "execution_count": null,
   "id": "77805c00",
   "metadata": {},
   "outputs": [],
   "source": []
  }
 ],
 "metadata": {
  "kernelspec": {
   "display_name": "cuda",
   "language": "python",
   "name": "python3"
  },
  "language_info": {
   "codemirror_mode": {
    "name": "ipython",
    "version": 3
   },
   "file_extension": ".py",
   "mimetype": "text/x-python",
   "name": "python",
   "nbconvert_exporter": "python",
   "pygments_lexer": "ipython3",
   "version": "3.12.3"
  }
 },
 "nbformat": 4,
 "nbformat_minor": 5
}

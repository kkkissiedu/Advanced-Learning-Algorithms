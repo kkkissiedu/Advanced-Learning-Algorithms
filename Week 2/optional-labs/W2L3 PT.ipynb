{
 "cells": [
  {
   "cell_type": "code",
   "execution_count": 16,
   "id": "63f09fd6",
   "metadata": {},
   "outputs": [],
   "source": [
    "import numpy as np\n",
    "import matplotlib.pyplot as plt\n",
    "plt.style.use('./deeplearning.mplstyle')\n",
    "import torch\n",
    "import torch.nn as nn\n",
    "import torch.optim as optim\n",
    "import torch.nn.functional as F\n",
    "from torch.utils.data import DataLoader, Dataset\n",
    "from lab_utils_common import dlc\n",
    "from sklearn.preprocessing import StandardScaler\n",
    "from torch.utils.data import TensorDataset, DataLoader\n",
    "from collections import OrderedDict\n",
    "from sklearn.datasets import make_blobs"
   ]
  },
  {
   "cell_type": "markdown",
   "id": "50f6b20b",
   "metadata": {},
   "source": [
    "# PyTorch Multi-Label Classification Model"
   ]
  },
  {
   "cell_type": "code",
   "execution_count": 26,
   "id": "c336ff7a",
   "metadata": {},
   "outputs": [],
   "source": [
    "class NN(nn.Module):\n",
    "    def __init__(self, input_size):\n",
    "        super(NN, self).__init__()\n",
    "\n",
    "        self.net = nn.Sequential(OrderedDict([\n",
    "            ('layer1', nn.Linear(input_size, 25)),\n",
    "            ('relu1', nn.ReLU()),\n",
    "            ('layer2', nn.Linear(25, 15)),\n",
    "            ('relu2', nn.ReLU()),\n",
    "            ('layer3', nn.Linear(15, 4))\n",
    "\n",
    "        ]))\n",
    "\n",
    "\n",
    "    def forward(self, x):\n",
    "        return self.net(x)\n"
   ]
  },
  {
   "cell_type": "markdown",
   "id": "580746d2",
   "metadata": {},
   "source": [
    "## Training Data"
   ]
  },
  {
   "cell_type": "code",
   "execution_count": 27,
   "id": "e5fd4765",
   "metadata": {},
   "outputs": [],
   "source": [
    "centers = [[-5, 2], [-2, -2], [1, 2], [5, -2]]\n",
    "X_train, y_train = make_blobs(n_samples=2000, centers=centers, cluster_std=1.0,random_state=30)\n",
    "\n",
    "X_tensor = torch.tensor(X_train, dtype = torch.float32)\n",
    "y_tensor = torch.tensor(y_train, dtype = torch.float32)"
   ]
  },
  {
   "cell_type": "markdown",
   "id": "affc87d1",
   "metadata": {},
   "source": [
    "# Neural Network"
   ]
  },
  {
   "cell_type": "code",
   "execution_count": 28,
   "id": "a7505f04",
   "metadata": {},
   "outputs": [],
   "source": [
    "input_size = X_tensor.shape[1]\n",
    "MLCM = NN(input_size)\n",
    "\n",
    "criterion = nn.CrossEntropyLoss()\n",
    "optimizer = optim.Adam(MLCM.parameters(), lr=0.001)"
   ]
  },
  {
   "cell_type": "markdown",
   "id": "dbb331df",
   "metadata": {},
   "source": [
    "## Training Loop"
   ]
  },
  {
   "cell_type": "code",
   "execution_count": 29,
   "id": "2359619a",
   "metadata": {},
   "outputs": [
    {
     "name": "stdout",
     "output_type": "stream",
     "text": [
      "Epoch [1/10], Loss: 0.8752\n",
      "Epoch [2/10], Loss: 0.4115\n",
      "Epoch [3/10], Loss: 0.1795\n",
      "Epoch [4/10], Loss: 0.1026\n",
      "Epoch [5/10], Loss: 0.0751\n",
      "Epoch [6/10], Loss: 0.0623\n",
      "Epoch [7/10], Loss: 0.0550\n",
      "Epoch [8/10], Loss: 0.0502\n",
      "Epoch [9/10], Loss: 0.0455\n",
      "Epoch [10/10], Loss: 0.0418\n"
     ]
    }
   ],
   "source": [
    "num_epochs = 10\n",
    "y_tensor = y_tensor.long()  \n",
    "\n",
    "dataset = TensorDataset(X_tensor, y_tensor)\n",
    "batch_size = 32  # To match TensorFlow's default\n",
    "train_loader = DataLoader(dataset=dataset, batch_size=batch_size, shuffle=True)\n",
    "\n",
    "for epoch in range(num_epochs):\n",
    "    MLCM.train()\n",
    "    epoch_loss = 0.0\n",
    "    num_batches = 0\n",
    "    \n",
    "    for batch_idx, (data_batch, target_batch) in enumerate(train_loader):\n",
    "        optimizer.zero_grad()\n",
    "        outputs = MLCM(data_batch)\n",
    "        loss = criterion(outputs, target_batch)\n",
    "        loss.backward()\n",
    "        optimizer.step()\n",
    "        epoch_loss += loss.item()\n",
    "        num_batches += 1\n",
    "\n",
    "\n",
    "    avg_epoch_loss = epoch_loss / num_batches\n",
    "\n",
    "    if (epoch + 1) % 1 == 0:\n",
    "        print(f'Epoch [{epoch +1}/{num_epochs}], Loss: {avg_epoch_loss:.4f}')"
   ]
  },
  {
   "cell_type": "code",
   "execution_count": null,
   "id": "df08a7b1",
   "metadata": {},
   "outputs": [],
   "source": []
  }
 ],
 "metadata": {
  "kernelspec": {
   "display_name": "cuda",
   "language": "python",
   "name": "python3"
  },
  "language_info": {
   "codemirror_mode": {
    "name": "ipython",
    "version": 3
   },
   "file_extension": ".py",
   "mimetype": "text/x-python",
   "name": "python",
   "nbconvert_exporter": "python",
   "pygments_lexer": "ipython3",
   "version": "3.12.3"
  }
 },
 "nbformat": 4,
 "nbformat_minor": 5
}
